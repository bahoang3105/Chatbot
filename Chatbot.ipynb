{
  "nbformat": 4,
  "nbformat_minor": 0,
  "metadata": {
    "colab": {
      "name": "Chatbot.ipynb",
      "provenance": [],
      "collapsed_sections": [],
      "include_colab_link": true
    },
    "kernelspec": {
      "display_name": "Python 3",
      "name": "python3"
    }
  },
  "cells": [
    {
      "cell_type": "markdown",
      "metadata": {
        "id": "view-in-github",
        "colab_type": "text"
      },
      "source": [
        "<a href=\"https://colab.research.google.com/github/bahoang3105/Chatbot/blob/main/Chatbot.ipynb\" target=\"_parent\"><img src=\"https://colab.research.google.com/assets/colab-badge.svg\" alt=\"Open In Colab\"/></a>"
      ]
    },
    {
      "cell_type": "code",
      "metadata": {
        "id": "LiPPXv2RTG28"
      },
      "source": [
        "#1.Xu ly truoc van ban voi nltk\n",
        "# - Chuyen toan bo chu hoa ve chu thuong\n",
        "# - Tokenization (tach tu)\n",
        "# - Loai bo stopword ( cac tu khong mang nhieu y nghia)\n",
        "# - Tao goc cho tu ( rut gon ve 1 tu duy nhat)\n",
        "#2. Bag of words (Tao tu dien)\n",
        "# - Chuyen van ban thanh mot vecto co y nghia gom :\n",
        "# + Tu da xuat hien hay chua\n",
        "# + Tan suat xuat hien cua tu\n",
        "#3. TF_IDF (Term frequency-Inverse Document Frequency)\n",
        "# - TF = So lan thuat ngu xuat hien trong tai lieu / So thuat ngu trong tai lieu\n",
        "# - IDF = 1 + log(N/n) \n",
        "#   Trong do N la so luong tai lieu va n la so luong tai lieu thuat ngu t da xuat hien\n",
        "#4: Cosin tuong tu : (Do su giong nhau giua 2 vecto)\n",
        "# - cos (d1, d2) = tich so cham (d1/ d2) / ||d1||*||d2||"
      ],
      "execution_count": null,
      "outputs": []
    },
    {
      "cell_type": "code",
      "metadata": {
        "id": "aoe_PjgYWYYc"
      },
      "source": [
        "import nltk \n",
        "import numpy as np\n",
        "import random\n",
        "import string\n",
        "import warnings\n",
        "warnings.filterwarnings('ignore')\n",
        "from tensorflow.keras.preprocessing.text import Tokenizer"
      ],
      "execution_count": null,
      "outputs": []
    },
    {
      "cell_type": "code",
      "metadata": {
        "colab": {
          "base_uri": "https://localhost:8080/"
        },
        "id": "pv4N7ljrWhCx",
        "outputId": "0992b78b-9e32-4a1e-c90b-6600b8663f3d"
      },
      "source": [
        "f = open('chatbot.txt', 'r', errors='ignore')\n",
        "raw = f.read()\n",
        "raw = raw.lower()#converts to lowercasse\n",
        "\n",
        "nltk.download('punkt')\n",
        "nltk.download('wordnet')\n",
        "nltk.download('stopwords')\n",
        "sent_tokens = nltk.sent_tokenize(raw) # converts to list of sentences\n",
        "\n",
        "tokenizer = Tokenizer(num_words=100)\n",
        "tokenizer.fit_on_texts(sent_tokens)\n",
        "word_tokens = np.array(tokenizer.word_index.keys()) # converts to list of words\n",
        "\n"
      ],
      "execution_count": null,
      "outputs": [
        {
          "output_type": "stream",
          "text": [
            "[nltk_data] Downloading package punkt to /root/nltk_data...\n",
            "[nltk_data]   Package punkt is already up-to-date!\n",
            "[nltk_data] Downloading package wordnet to /root/nltk_data...\n",
            "[nltk_data]   Package wordnet is already up-to-date!\n",
            "[nltk_data] Downloading package stopwords to /root/nltk_data...\n",
            "[nltk_data]   Package stopwords is already up-to-date!\n"
          ],
          "name": "stdout"
        }
      ]
    },
    {
      "cell_type": "code",
      "metadata": {
        "colab": {
          "base_uri": "https://localhost:8080/"
        },
        "id": "T405CUYXC4Oi",
        "outputId": "a0afbe47-dee4-42f2-81ca-4a47533916dd"
      },
      "source": [
        "word_tokens\n"
      ],
      "execution_count": null,
      "outputs": [
        {
          "output_type": "execute_result",
          "data": {
            "text/plain": [
              "array(dict_keys(['laptop', 'hp', 'có', 'được', 'hình', 'dòng', 'với', 'và', 'cho', 'là', 'các', 'dell', 'máy', 'dụng', 'thiết', 'năng', 'màn', 'kế', 'một', 'sử', 'thể', 'tốt', 'thế', 'bạn', 'việc', 'này', 'đến', 'độ', 'lượng', 'cao', 'bị', 'bản', 'core', 'hệ', 'trang', 'sở', 'hữu', 'của', 'nhất', 'intel', 'ram', 'không', 'đồ', 'làm', 'xử', 'ứng', 'cấu', '8', 'họa', 'mạnh', 'cạnh', 'chip', 'hơn', 'i7', 'game', 'chiếc', 'cực', 'khả', 'đó', 'cấp', 'cứng', 'hiệu', 'gb', 'hợp', 'từ', 'trong', 'thứ', 'giúp', '15', 'inch', 'mà', 'kèm', 'giá', 'vụ', 'lên', 'giải', 'lý', 'văn', 'sản', 'phẩm', 'như', 'mẽ', 'xps', 'tác', 'cơ', 'cùng', 'bên', 'chất', 'sắc', 'trọng', '14', 'nhẹ', 'bộ', 'nổi', 'bật', 'triệu', 'vỏ', 'người', 'công', 'sự', 'số', 'hay', 'mỏng', 'đem', 'những', 'doanh', 'phòng', 'nặng', 'đồng', '13', 'spectre', 'hd', 'đẹp', 'mượt', 'ổ', 'dễ', 'chơi', 'tính', 'ngoài', 'nghiệp', 'latitude', 'cũng', 'tế', 'thời', 'ra', '1', 'để', 'mức', 'x360', 'envy', 'inspiron', 'tượng', 'nhu', 'cầu', 'đơn', 'giản', 'vào', 'dàng', 'còn', 'vi', 'hỗ', 'trợ', 'đa', 'nét', 'trên', '2', 'lại', 'mang', 'theo', 'usd', 'kim', 'zbook', 'mọi', 'định', 'đi', 'full', 'mắt', 'cảm', 'dùng', 'i5', '3580', 'phim', 'nhiệm', 'tuyệt', 'lí', 'vostro', 'phiên', 'dành', 'bảo', 'card', 'hoàn', 'ssd', 'mới', 'omen', 'nhiều', 'đây', '10', 'tập', 'ổn', 'nhựa', 'màu', 'chắc', 'hiện', 'photoshop', '6', 'trí', 'phân', 'bền', 'liệu', 'trung', 'khi', 'trải', 'nghiệm', 'vời', 'mật', 'tinh', 'rời', 'chỉ', 'lớn', 'kết', 'tối', 'lưu', 'chuyên', 'khoảng', 'pin', 'thủ', 'lâu', 'hoặc', 'loại', 'sang', 'cần', 'elitebook', 'model', 'khá', 'phổ', 'thông', 'đối', 'biến', 'chắn', 'đại', 'chạy', 'bằng', 'nghệ', 'chống', 'ở', 'trường', 'chọn', 'tốc', 'nhanh', 'trình', '8gb', 'nhỏ', 'cáp', 'cân', 'khó', 'di', 'chuyển', 'siêu', 'ưu', 'tiện', 'khối', 'nguyên', '4k', 'điểm', 'thích', 'phần', 'đều', 'alienware', 'đáp', 'nhân', 'probook', 'nhớ', 'dung', '4', 'cách', 'ấn', 'gập', '17', 'tới', 'chromebook', 'sinh', 'học', 'phục', 'góc', 'lake', 'nâng', '16gb', 'đặc', 'gian', 'rộng', 'hiển', 'thị', 'ảnh', 'nên', 'lựa', 'thay', 'xem', 'chóng', 'lướt', 'web', 'mở', '40', 'sẽ', 'ai', 'dày', 'tuy', 'nhưng', 'quá', 'vẫn', 'đảm', 'hdd', 'trữ', 'thuộc', 'lớp', 'thì', 'mềm', '22', 'điều', 'tay', 'precision', 'bàn', 'hoạt', 'kg', 'bất', 'cứ', 'đâu', 'i3', 'g3', '360', 'nvidia', 'về', '1080p', '15t', 'phù', 'trẻ', 'viên', '20', '4gb', 'word', 'excel', 'chrome', 'chỉnh', 'sửa', 'biệt', 'chói', 'môi', 'chú', 'đã', 'thấy', 'giật', 'lag', '5593', 'viền', 'hết', 'tăng', 'suất', 'thấp', 'cỡ', 'thường', 'đường', 'bởi', 'amd', 'hoạ', 'lol', 'fifa', 'thiện', '8565u', '21kg', '256', 'm', 'nvme', '1tb', 'hóa', 'đủ', 'hảo', 'cụ', 'ultrabook', 'gọn', 'khung', 'so', 'yêu', 'thực', 'tiếng', 'rơi', 'riêng', 'nếu', 'bỏ', 'xách', 'thống', 'tiến', 'hạn', 'chế', 'đánh', 'tất', 'nhiên', 'chuẩn', 'vr', 'xuất', 'tùy', '3510', 'sư', 'nhà', 'động', 'e7270', 'e7470', '9', 'phím', 'chính', 'con', 'tin', 'mẫu', 'mm', '7', 'bình', 'soạn', 'thảo', 'phép', 'thanh', 'tb', 'ngay', 'hàng', 'tài', 'hoa', 'kỳ', 'thuận', 'lề', 'xoay', 'tư', '16', 'khủng', 'thức', 'linh', '8550u', 'kể', 'cả', 'nghe', 'khác', 'luôn', 'thu', 'hút', 'vô', 'tỉ', 'mỉ', 'beats', 'video', '6zf26pa', 'kì', 'gồm', 'phải', 'aq0025tu', '6zf33pa', 'thao', 'pavilion', '1000', 'cộng', 'geforce', 'pavilon', 'tham', 'khảo', 'studio', '256gb', '1999', '15u', 'g2', 'gtx', 'rất', 'n3580', 'bo', 'tròn', 'đen', 'tạo', 'giác', 'coffee', 'youtube', 'bỉ', 'thân', 'ý', 'ít', 'tích', 'đĩa', 'quang', 'bluray', 'dvd', 'dữ', 'gõ', 'chiếu', 'tab', 'kích', 'thước', 'cày', 'sức', 'nữa', 'anti', 'glare', 'trời', 'ice', 'biết', 'tiết', 'kiệm', 'gia', 'đỡ', 'vững', 'tầm', '65mm', '28kg', 'khiến', 'gặp', 'khăn', 'vận', 'hành', 'radeon', '520', 'nay', 'vuông', 'vức', 'khỏe', 'nhận', 'thật', 'thoải', 'khe', 'cắm', 'pcie', '128gb', 'sẵn', 'cổng', 'nối', 'hdmi', 'lan', 'usb', 'phương', 'nhôm', 'phủ', 'sợi', 'carbon', 'tráng', 'corning', 'gorilla', 'glass', 'nbt', 'trầy', 'xước', 'lần', 'sáng', 'ips', 'ultra', 'igzo2', 'mịn', '3', 'liên', 'tục', 'đo', 'batterymon', 'to', 'khởi', '999', 'trông', 'dân', 'qua', 'đời', 'giới', 'tản', 'nhiệt', 'tiên', 'tình', 'trạng', 'r3', 'đạt', 'ready', '5510', 'coi', 'trạm', 'giành', 'kiến', 'trúc', 'kỹ', 'dài', 'tuổi', 'thọ', 'thậm', 'chí', 'magiê', 'sốc', 'vệ', 'va', 'đập', '12', 'giờ', 'giữa', 'vừa', 'hầu', 'tpm', 'mã', 'quan', 'đọc', 'dấu', 'vân', 'khóa', 'lạc', 'kẻ', 'xấu', '348', 'g5', '7xj62pa', '19', '89', '42', 'hoá', 'vấn', 'đề', 'nhàng', 'online', 'thuật', 'toán', 'chương', '52', 'lợi', 'gây', 'lịch', 'vì', 'trăm', 'thêm', 'tiêu', 'mil', 'spec', 'quân', 'đội', '1030', '5as42pa', 'thách', 'nó', 'bút', 'lực', 'viết', 'vẽ', 'thuyết', 'trơn', 'tru', 'nhạc', 'autocad', 'sánh', 'tranh', 'bậc', 'trưng', 'ái', 'âm', 'audio', 'ati', 'tai', '3d', 'toát', 'vẻ', 'chờ', 'đợi', 'chăm', 'chút', 'lôi', 'cuốn', 'tự', 'hằng', 'ngày', 'cung', 'lightroom', 'cận', 'chăng', 'nhau', 'tiếp', 'mx250', 'tận', 'thiểu', '2d', 'tựa', 'ce2035tu', 'vàng', 'nhìn', 'túi', 'ba', 'lô', 'muốn', 'lo', 'lắng', 'đầy', 'nhờ', 'biên', 'bắt', 'chấm', 'bi', 'nắp', 'cắt', 'cương', 'toàn', 'khẳng', '6820hq', 'ngang', 'ngửa', '7700hq', 'skylake', 'quadro', 'm1000m', '2gb', 'gddr5', 'ddr4', 'giao', 'do', 'đắt', 'đỏ', '3039', '65', 'chịu', '1119', '24', 'bao', '5', '5600u', '6ghz', '32gb', 'firepro', 'm4170', '1gb', 'mặc', 'dù', 'kiểu', 'dáng', 'notebook', 'chromebooks', 'khám', 'phá', 'hướng', 'nhập', 'rẻ', 'celeron', 'dưới', 'mỹ', 'kiện', 'kinh', 'bảng', 'nói', 'in', 'kaby', 'led', 'đổi', 'vài', 'ảo', 'vga', '1070', 'đầu', 'đáng', 'gờm', 'minh', 'cải', 'cpu', '1050', 'ti']),\n",
              "      dtype=object)"
            ]
          },
          "metadata": {
            "tags": []
          },
          "execution_count": 7
        }
      ]
    },
    {
      "cell_type": "code",
      "metadata": {
        "id": "7de4kppPUNYc"
      },
      "source": [
        "# pre-processing the raw text \n",
        "# define function called LemTokens which will take as input the tokens and return nomalized tokens\n",
        "lemmer = nltk.stem.WordNetLemmatizer()\n",
        "def LemTokens(tokens):\n",
        "  return [lemmer.lemmatize(token) for token in tokens]\n",
        "remove_punct_dict = dict((ord(punct), None) for punct in string.punctuation)\n",
        "def LemNormalize(text):\n",
        "  return LemTokens(nltk.word_tokenize(text.lower().translate(remove_punct_dict)))\n",
        "\n"
      ],
      "execution_count": null,
      "outputs": []
    },
    {
      "cell_type": "code",
      "metadata": {
        "id": "lj0PneYLd5xY"
      },
      "source": [
        "GREETING_INPUTS = (\"hello\", \"hi\", \"greetings\", \"hey\", \"yo\")\n",
        "GREETING_RESPONSES = [\"Hi\", \"Hey\", \"Hi there\", \"Welcome\"]\n",
        "\n",
        "def greeting(sentence):\n",
        "  for word in sentence.split():\n",
        "    if word.lower() in GREETING_INPUTS:\n",
        "      return random.choice(GREETING_RESPONSES)"
      ],
      "execution_count": null,
      "outputs": []
    },
    {
      "cell_type": "code",
      "metadata": {
        "id": "_25Z_REKfAFH"
      },
      "source": [
        "#Generating Response\n",
        "from sklearn.feature_extraction.text import TfidfVectorizer\n",
        "from sklearn.metrics.pairwise import cosine_similarity\n",
        "# find the similarity between words entered by the user and the words corpus\n",
        "\n"
      ],
      "execution_count": null,
      "outputs": []
    },
    {
      "cell_type": "code",
      "metadata": {
        "id": "fujyzGgtfjNf"
      },
      "source": [
        "def response(user_response):\n",
        "  robo_response = ''\n",
        "\n",
        "  sent_tokens.append(user_response)\n",
        "\n",
        "  TfidfVec = TfidfVectorizer(tokenizer=LemNormalize, stop_words='english')\n",
        "\n",
        "  tfidf = TfidfVec.fit_transform(sent_tokens)\n",
        "\n",
        "  vals = cosine_similarity(tfidf[-1], tfidf)\n",
        "\n",
        "  idx = vals.argsort()[0][-2]\n",
        "  flat = vals.flatten()\n",
        "  flat.sort()\n",
        "  req_tfidf = flat[-2]\n",
        "\n",
        "  if (req_tfidf == 0):\n",
        "      robo_response = robo_response + \"Sorry ! I dont understand you\"\n",
        "      return robo_response\n",
        "  else:\n",
        "      robo_response = robo_response + sent_tokens[idx]\n",
        "      return robo_response"
      ],
      "execution_count": null,
      "outputs": []
    },
    {
      "cell_type": "code",
      "metadata": {
        "colab": {
          "base_uri": "https://localhost:8080/",
          "height": 578
        },
        "id": "Pv-FFXIEiEDA",
        "outputId": "4ff73525-c1f2-4eee-a2dc-cac2f5ce90ca"
      },
      "source": [
        " flag = True\n",
        "print(\"BOT: My name is N13? Can I help you ?\")\n",
        "while(flag == True):\n",
        "  print('You:')\n",
        "  user_response = input()\n",
        "  user_response = user_response.lower().strip()\n",
        "  if (user_response != 'bye'):\n",
        "    if (user_response == 'thanks' or user_response == 'thank you'):\n",
        "      print(\"BOT: No Problem ! What do you want to ask ?\")\n",
        "    else : \n",
        "      if (greeting(user_response) != None):\n",
        "        print(\"BOT:\" + greeting(user_response))\n",
        "      else:\n",
        "        print(\"BOT:\", end=\"\")\n",
        "        print(response(user_response))\n",
        "        sent_tokens.remove(user_response)\n",
        "  else: \n",
        "    flag = False\n",
        "    print(\"BOT: Bye\")\n"
      ],
      "execution_count": null,
      "outputs": [
        {
          "output_type": "stream",
          "text": [
            "BOT: My name is N13? Can I help you ?\n",
            "You:\n"
          ],
          "name": "stdout"
        },
        {
          "output_type": "error",
          "ename": "KeyboardInterrupt",
          "evalue": "ignored",
          "traceback": [
            "\u001b[0;31m---------------------------------------------------------------------------\u001b[0m",
            "\u001b[0;31mKeyboardInterrupt\u001b[0m                         Traceback (most recent call last)",
            "\u001b[0;32m/usr/local/lib/python3.7/dist-packages/ipykernel/kernelbase.py\u001b[0m in \u001b[0;36m_input_request\u001b[0;34m(self, prompt, ident, parent, password)\u001b[0m\n\u001b[1;32m    728\u001b[0m             \u001b[0;32mtry\u001b[0m\u001b[0;34m:\u001b[0m\u001b[0;34m\u001b[0m\u001b[0;34m\u001b[0m\u001b[0m\n\u001b[0;32m--> 729\u001b[0;31m                 \u001b[0mident\u001b[0m\u001b[0;34m,\u001b[0m \u001b[0mreply\u001b[0m \u001b[0;34m=\u001b[0m \u001b[0mself\u001b[0m\u001b[0;34m.\u001b[0m\u001b[0msession\u001b[0m\u001b[0;34m.\u001b[0m\u001b[0mrecv\u001b[0m\u001b[0;34m(\u001b[0m\u001b[0mself\u001b[0m\u001b[0;34m.\u001b[0m\u001b[0mstdin_socket\u001b[0m\u001b[0;34m,\u001b[0m \u001b[0;36m0\u001b[0m\u001b[0;34m)\u001b[0m\u001b[0;34m\u001b[0m\u001b[0;34m\u001b[0m\u001b[0m\n\u001b[0m\u001b[1;32m    730\u001b[0m             \u001b[0;32mexcept\u001b[0m \u001b[0mException\u001b[0m\u001b[0;34m:\u001b[0m\u001b[0;34m\u001b[0m\u001b[0;34m\u001b[0m\u001b[0m\n",
            "\u001b[0;32m/usr/local/lib/python3.7/dist-packages/jupyter_client/session.py\u001b[0m in \u001b[0;36mrecv\u001b[0;34m(self, socket, mode, content, copy)\u001b[0m\n\u001b[1;32m    802\u001b[0m         \u001b[0;32mtry\u001b[0m\u001b[0;34m:\u001b[0m\u001b[0;34m\u001b[0m\u001b[0;34m\u001b[0m\u001b[0m\n\u001b[0;32m--> 803\u001b[0;31m             \u001b[0mmsg_list\u001b[0m \u001b[0;34m=\u001b[0m \u001b[0msocket\u001b[0m\u001b[0;34m.\u001b[0m\u001b[0mrecv_multipart\u001b[0m\u001b[0;34m(\u001b[0m\u001b[0mmode\u001b[0m\u001b[0;34m,\u001b[0m \u001b[0mcopy\u001b[0m\u001b[0;34m=\u001b[0m\u001b[0mcopy\u001b[0m\u001b[0;34m)\u001b[0m\u001b[0;34m\u001b[0m\u001b[0;34m\u001b[0m\u001b[0m\n\u001b[0m\u001b[1;32m    804\u001b[0m         \u001b[0;32mexcept\u001b[0m \u001b[0mzmq\u001b[0m\u001b[0;34m.\u001b[0m\u001b[0mZMQError\u001b[0m \u001b[0;32mas\u001b[0m \u001b[0me\u001b[0m\u001b[0;34m:\u001b[0m\u001b[0;34m\u001b[0m\u001b[0;34m\u001b[0m\u001b[0m\n",
            "\u001b[0;32m/usr/local/lib/python3.7/dist-packages/zmq/sugar/socket.py\u001b[0m in \u001b[0;36mrecv_multipart\u001b[0;34m(self, flags, copy, track)\u001b[0m\n\u001b[1;32m    582\u001b[0m         \"\"\"\n\u001b[0;32m--> 583\u001b[0;31m         \u001b[0mparts\u001b[0m \u001b[0;34m=\u001b[0m \u001b[0;34m[\u001b[0m\u001b[0mself\u001b[0m\u001b[0;34m.\u001b[0m\u001b[0mrecv\u001b[0m\u001b[0;34m(\u001b[0m\u001b[0mflags\u001b[0m\u001b[0;34m,\u001b[0m \u001b[0mcopy\u001b[0m\u001b[0;34m=\u001b[0m\u001b[0mcopy\u001b[0m\u001b[0;34m,\u001b[0m \u001b[0mtrack\u001b[0m\u001b[0;34m=\u001b[0m\u001b[0mtrack\u001b[0m\u001b[0;34m)\u001b[0m\u001b[0;34m]\u001b[0m\u001b[0;34m\u001b[0m\u001b[0;34m\u001b[0m\u001b[0m\n\u001b[0m\u001b[1;32m    584\u001b[0m         \u001b[0;31m# have first part already, only loop while more to receive\u001b[0m\u001b[0;34m\u001b[0m\u001b[0;34m\u001b[0m\u001b[0;34m\u001b[0m\u001b[0m\n",
            "\u001b[0;32mzmq/backend/cython/socket.pyx\u001b[0m in \u001b[0;36mzmq.backend.cython.socket.Socket.recv\u001b[0;34m()\u001b[0m\n",
            "\u001b[0;32mzmq/backend/cython/socket.pyx\u001b[0m in \u001b[0;36mzmq.backend.cython.socket.Socket.recv\u001b[0;34m()\u001b[0m\n",
            "\u001b[0;32mzmq/backend/cython/socket.pyx\u001b[0m in \u001b[0;36mzmq.backend.cython.socket._recv_copy\u001b[0;34m()\u001b[0m\n",
            "\u001b[0;32m/usr/local/lib/python3.7/dist-packages/zmq/backend/cython/checkrc.pxd\u001b[0m in \u001b[0;36mzmq.backend.cython.checkrc._check_rc\u001b[0;34m()\u001b[0m\n",
            "\u001b[0;31mKeyboardInterrupt\u001b[0m: ",
            "\nDuring handling of the above exception, another exception occurred:\n",
            "\u001b[0;31mKeyboardInterrupt\u001b[0m                         Traceback (most recent call last)",
            "\u001b[0;32m<ipython-input-14-9e1e2757a6cb>\u001b[0m in \u001b[0;36m<module>\u001b[0;34m()\u001b[0m\n\u001b[1;32m      3\u001b[0m \u001b[0;32mwhile\u001b[0m\u001b[0;34m(\u001b[0m\u001b[0mflag\u001b[0m \u001b[0;34m==\u001b[0m \u001b[0;32mTrue\u001b[0m\u001b[0;34m)\u001b[0m\u001b[0;34m:\u001b[0m\u001b[0;34m\u001b[0m\u001b[0;34m\u001b[0m\u001b[0m\n\u001b[1;32m      4\u001b[0m  \u001b[0mprint\u001b[0m\u001b[0;34m(\u001b[0m\u001b[0;34m'You:'\u001b[0m\u001b[0;34m)\u001b[0m\u001b[0;34m\u001b[0m\u001b[0;34m\u001b[0m\u001b[0m\n\u001b[0;32m----> 5\u001b[0;31m  \u001b[0muser_response\u001b[0m \u001b[0;34m=\u001b[0m \u001b[0minput\u001b[0m\u001b[0;34m(\u001b[0m\u001b[0;34m)\u001b[0m\u001b[0;34m\u001b[0m\u001b[0;34m\u001b[0m\u001b[0m\n\u001b[0m\u001b[1;32m      6\u001b[0m  \u001b[0muser_response\u001b[0m \u001b[0;34m=\u001b[0m \u001b[0muser_response\u001b[0m\u001b[0;34m.\u001b[0m\u001b[0mlower\u001b[0m\u001b[0;34m(\u001b[0m\u001b[0;34m)\u001b[0m\u001b[0;34m.\u001b[0m\u001b[0mstrip\u001b[0m\u001b[0;34m(\u001b[0m\u001b[0;34m)\u001b[0m\u001b[0;34m\u001b[0m\u001b[0;34m\u001b[0m\u001b[0m\n\u001b[1;32m      7\u001b[0m  \u001b[0;32mif\u001b[0m \u001b[0;34m(\u001b[0m\u001b[0muser_response\u001b[0m \u001b[0;34m!=\u001b[0m \u001b[0;34m'bye'\u001b[0m\u001b[0;34m)\u001b[0m\u001b[0;34m:\u001b[0m\u001b[0;34m\u001b[0m\u001b[0;34m\u001b[0m\u001b[0m\n",
            "\u001b[0;32m/usr/local/lib/python3.7/dist-packages/ipykernel/kernelbase.py\u001b[0m in \u001b[0;36mraw_input\u001b[0;34m(self, prompt)\u001b[0m\n\u001b[1;32m    702\u001b[0m             \u001b[0mself\u001b[0m\u001b[0;34m.\u001b[0m\u001b[0m_parent_ident\u001b[0m\u001b[0;34m,\u001b[0m\u001b[0;34m\u001b[0m\u001b[0;34m\u001b[0m\u001b[0m\n\u001b[1;32m    703\u001b[0m             \u001b[0mself\u001b[0m\u001b[0;34m.\u001b[0m\u001b[0m_parent_header\u001b[0m\u001b[0;34m,\u001b[0m\u001b[0;34m\u001b[0m\u001b[0;34m\u001b[0m\u001b[0m\n\u001b[0;32m--> 704\u001b[0;31m             \u001b[0mpassword\u001b[0m\u001b[0;34m=\u001b[0m\u001b[0;32mFalse\u001b[0m\u001b[0;34m,\u001b[0m\u001b[0;34m\u001b[0m\u001b[0;34m\u001b[0m\u001b[0m\n\u001b[0m\u001b[1;32m    705\u001b[0m         )\n\u001b[1;32m    706\u001b[0m \u001b[0;34m\u001b[0m\u001b[0m\n",
            "\u001b[0;32m/usr/local/lib/python3.7/dist-packages/ipykernel/kernelbase.py\u001b[0m in \u001b[0;36m_input_request\u001b[0;34m(self, prompt, ident, parent, password)\u001b[0m\n\u001b[1;32m    732\u001b[0m             \u001b[0;32mexcept\u001b[0m \u001b[0mKeyboardInterrupt\u001b[0m\u001b[0;34m:\u001b[0m\u001b[0;34m\u001b[0m\u001b[0;34m\u001b[0m\u001b[0m\n\u001b[1;32m    733\u001b[0m                 \u001b[0;31m# re-raise KeyboardInterrupt, to truncate traceback\u001b[0m\u001b[0;34m\u001b[0m\u001b[0;34m\u001b[0m\u001b[0;34m\u001b[0m\u001b[0m\n\u001b[0;32m--> 734\u001b[0;31m                 \u001b[0;32mraise\u001b[0m \u001b[0mKeyboardInterrupt\u001b[0m\u001b[0;34m\u001b[0m\u001b[0;34m\u001b[0m\u001b[0m\n\u001b[0m\u001b[1;32m    735\u001b[0m             \u001b[0;32melse\u001b[0m\u001b[0;34m:\u001b[0m\u001b[0;34m\u001b[0m\u001b[0;34m\u001b[0m\u001b[0m\n\u001b[1;32m    736\u001b[0m                 \u001b[0;32mbreak\u001b[0m\u001b[0;34m\u001b[0m\u001b[0;34m\u001b[0m\u001b[0m\n",
            "\u001b[0;31mKeyboardInterrupt\u001b[0m: "
          ]
        }
      ]
    }
  ]
}